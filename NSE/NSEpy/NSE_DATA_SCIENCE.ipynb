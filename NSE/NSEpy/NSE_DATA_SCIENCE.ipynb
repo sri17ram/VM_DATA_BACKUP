{
 "cells": [
  {
   "cell_type": "code",
   "execution_count": 117,
   "metadata": {},
   "outputs": [],
   "source": [
    "import nsepy\n",
    "from nsepy import get_quote\n",
    "from datetime import datetime"
   ]
  },
  {
   "cell_type": "code",
   "execution_count": 118,
   "metadata": {},
   "outputs": [
    {
     "name": "stdout",
     "output_type": "stream",
     "text": [
      "2018-01-01\n",
      "2018-01-01 00:00:00\n"
     ]
    }
   ],
   "source": [
    "data = get_quote(symbol=\"SUZLON\")\n",
    "print (date(2018,1,1))\n",
    "print (datetime(2018,1,1,0,0,0))"
   ]
  },
  {
   "cell_type": "code",
   "execution_count": 125,
   "metadata": {},
   "outputs": [
    {
     "name": "stdout",
     "output_type": "stream",
     "text": [
      "{u'sellPrice3': u'-', u'dayHigh': 5.4, u'sellPrice1': 5.3, u'totalSellQuantity': 93511, u'sellPrice5': u'-', u'css_status_desc': u'Listed', u'ndEndDate': u'-', u'applicableMargin': 15.83, u'marketType': u'N', u'previousClose': 5.3, u'bcEndDate': u'27-JUL-18', u'totalTradedVolume': 11774554, u'priceBand': u'No Band', u'secDate': u'17DEC2018', u'exDate': u'19-JUL-18', u'sellQuantity4': u'-', u'sellQuantity5': u'-', u'cm_ffm': 1748.08, u'pChange': -0.94, u'open': 5.3, u'securityVar': 10.6, u'sellQuantity2': u'-', u'sellQuantity3': u'-', u'closePrice': 5.3, u'pricebandupper': 5.8, u'extremeLossMargin': 5.0, u'sellPrice4': u'-', u'sellQuantity1': 93511, u'buyPrice4': u'-', u'buyPrice5': u'-', u'low52': 4.95, u'deliveryToTradedQuantity': 34.22, u'buyPrice1': u'-', u'buyPrice2': u'-', u'buyPrice3': u'-', u'buyQuantity1': u'-', u'recordDate': u'-', u'buyQuantity3': u'-', u'buyQuantity2': u'-', u'buyQuantity5': u'-', u'buyQuantity4': u'-', u'isExDateFlag': False, u'totalBuyQuantity': u'-', u'lastPrice': 5.25, u'companyName': u'Suzlon Energy Limited', u'bcStartDate': u'21-JUL-18', u'symbol': u'SUZLON', u'deliveryQuantity': 4028689, u'sellPrice2': u'-', u'purpose': u'ANNUAL GENERAL MEETING', u'indexVar': u'-', u'varMargin': 10.6, u'change': -0.05, u'surv_indicator': u'-', u'quantityTraded': 11774554, u'isinCode': u'INE040H01021', u'adhocMargin': 0.23, u'high52': 17.1, u'pricebandlower': 4.8, u'faceValue': 2.0, u'series': u'EQ', u'dayLow': 5.25, u'basePrice': 5.3, u'ndStartDate': u'-', u'totalTradedValue': 627.58, u'averagePrice': 5.33, u'cm_adj_high_dt': u'10-JAN-18', u'cm_adj_low_dt': u'29-NOV-18'}\n",
      "17DEC2018\n",
      "[u'sellPrice3', u'dayHigh', u'sellPrice1', u'totalSellQuantity', u'sellPrice5', u'css_status_desc', u'ndEndDate', u'applicableMargin', u'marketType', u'previousClose', u'bcEndDate', u'totalTradedVolume', u'priceBand', u'secDate', u'exDate', u'sellQuantity4', u'sellQuantity5', u'cm_ffm', u'pChange', u'open', u'securityVar', u'sellQuantity2', u'sellQuantity3', u'closePrice', u'pricebandupper', u'extremeLossMargin', u'sellPrice4', u'sellQuantity1', u'buyPrice4', u'buyPrice5', u'low52', u'deliveryToTradedQuantity', u'buyPrice1', u'buyPrice2', u'buyPrice3', u'buyQuantity1', u'recordDate', u'buyQuantity3', u'buyQuantity2', u'buyQuantity5', u'buyQuantity4', u'isExDateFlag', u'totalBuyQuantity', u'lastPrice', u'companyName', u'bcStartDate', u'symbol', u'deliveryQuantity', u'sellPrice2', u'purpose', u'indexVar', u'varMargin', u'change', u'surv_indicator', u'quantityTraded', u'isinCode', u'adhocMargin', u'high52', u'pricebandlower', u'faceValue', u'series', u'dayLow', u'basePrice', u'ndStartDate', u'totalTradedValue', u'averagePrice', u'cm_adj_high_dt', u'cm_adj_low_dt']\n"
     ]
    }
   ],
   "source": [
    "print ((data))\n",
    "print (data[\"secDate\"])\n",
    "print (data.keys())"
   ]
  },
  {
   "cell_type": "code",
   "execution_count": 120,
   "metadata": {},
   "outputs": [
    {
     "ename": "AttributeError",
     "evalue": "'dict' object has no attribute 'head'",
     "output_type": "error",
     "traceback": [
      "\u001b[0;31m\u001b[0m",
      "\u001b[0;31mAttributeError\u001b[0mTraceback (most recent call last)",
      "\u001b[0;32m<ipython-input-120-304fa4ce4ebd>\u001b[0m in \u001b[0;36m<module>\u001b[0;34m()\u001b[0m\n\u001b[0;32m----> 1\u001b[0;31m \u001b[0mdata\u001b[0m\u001b[0;34m.\u001b[0m\u001b[0mhead\u001b[0m\u001b[0;34m(\u001b[0m\u001b[0;34m)\u001b[0m\u001b[0;34m\u001b[0m\u001b[0m\n\u001b[0m",
      "\u001b[0;31mAttributeError\u001b[0m: 'dict' object has no attribute 'head'"
     ]
    }
   ],
   "source": [
    "data.head()"
   ]
  },
  {
   "cell_type": "code",
   "execution_count": null,
   "metadata": {},
   "outputs": [],
   "source": [
    "import matplotlib"
   ]
  },
  {
   "cell_type": "code",
   "execution_count": null,
   "metadata": {},
   "outputs": [],
   "source": [
    "data[['Close']].plot()"
   ]
  },
  {
   "cell_type": "code",
   "execution_count": null,
   "metadata": {},
   "outputs": [],
   "source": []
  }
 ],
 "metadata": {
  "kernelspec": {
   "display_name": "Python 2",
   "language": "python",
   "name": "python2"
  },
  "language_info": {
   "codemirror_mode": {
    "name": "ipython",
    "version": 2
   },
   "file_extension": ".py",
   "mimetype": "text/x-python",
   "name": "python",
   "nbconvert_exporter": "python",
   "pygments_lexer": "ipython2",
   "version": "2.7.15rc1"
  }
 },
 "nbformat": 4,
 "nbformat_minor": 2
}
