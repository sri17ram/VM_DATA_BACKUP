{
 "cells": [
  {
   "cell_type": "code",
   "execution_count": 15,
   "metadata": {},
   "outputs": [],
   "source": [
    "import nsepy\n",
    "from nsepy import get_quote\n",
    "from nsepy.constants import symbol_list\n",
    "from datetime import datetime"
   ]
  },
  {
   "cell_type": "code",
   "execution_count": 16,
   "metadata": {},
   "outputs": [
    {
     "data": {
      "text/plain": [
       "list"
      ]
     },
     "execution_count": 16,
     "metadata": {},
     "output_type": "execute_result"
    }
   ],
   "source": [
    "type(symbol_list)"
   ]
  },
  {
   "cell_type": "code",
   "execution_count": 20,
   "metadata": {},
   "outputs": [
    {
     "name": "stdout",
     "output_type": "stream",
     "text": [
      "BAJAJELEC\n",
      "{u'sellPrice3': 507.95, u'dayHigh': 508.8, u'sellPrice1': 507.5, u'totalSellQuantity': 60425, u'sellPrice5': 508.1, u'css_status_desc': u'Listed', u'ndEndDate': u'-', u'applicableMargin': 12.56, u'marketType': u'N', u'previousClose': 509.4, u'bcEndDate': u'09-AUG-18', u'totalTradedVolume': 11008, u'priceBand': 20, u'secDate': u'17DEC2018', u'exDate': u'02-AUG-18', u'sellQuantity4': 120, u'sellQuantity5': 56, u'cm_ffm': 1928.45, u'pChange': -0.45, u'open': 508.8, u'securityVar': 7.56, u'sellQuantity2': 224, u'sellQuantity3': 72, u'closePrice': 0.0, u'pricebandupper': 611.25, u'extremeLossMargin': 5.0, u'sellPrice4': 508.0, u'sellQuantity1': 39, u'buyPrice4': 506.6, u'buyPrice5': 506.3, u'low52': 400.0, u'deliveryToTradedQuantity': 30.11, u'buyPrice1': 507.1, u'buyPrice2': 507.0, u'buyPrice3': 506.65, u'buyQuantity1': 72, u'recordDate': u'-', u'buyQuantity3': 1, u'buyQuantity2': 35, u'buyQuantity5': 10, u'buyQuantity4': 102, u'isExDateFlag': False, u'totalBuyQuantity': 70347, u'lastPrice': 507.1, u'companyName': u'Bajaj Electricals Limited', u'bcStartDate': u'04-AUG-18', u'symbol': u'BAJAJELEC', u'deliveryQuantity': 32510, u'sellPrice2': 507.6, u'purpose': u'ANNUAL GENERAL MEETING/DIVIDEND- RS 3.50 PER SHARE', u'indexVar': u'-', u'varMargin': 7.56, u'change': -2.3, u'surv_indicator': u'-', u'quantityTraded': 107976, u'isinCode': u'INE193E01025', u'adhocMargin': u'-', u'high52': 705.8, u'pricebandlower': 407.55, u'faceValue': 2.0, u'series': u'EQ', u'dayLow': 503.9, u'basePrice': 509.4, u'ndStartDate': u'-', u'totalTradedValue': 55.84, u'averagePrice': 507.26, u'cm_adj_high_dt': u'24-APR-18', u'cm_adj_low_dt': u'06-FEB-18'}\n"
     ]
    }
   ],
   "source": [
    "for symbols in symbol_list:\n",
    "    symbols=\"BAJAJELEC\"\n",
    "    print (symbols.rstrip())  #     historical_data = get_history(symbol=symbols, start=date(2018,1,1),end=date(2018,12,15))\n",
    "    data = get_quote(symbol=symbols.rstrip())\n",
    "    print (data)\n",
    "    break\n",
    "    #     data = get_quote(symbol=str(symbols))\n",
    "#     data\n",
    "#     print (symbols,data[\"lastPrice\"], data[\"low52\"])"
   ]
  },
  {
   "cell_type": "code",
   "execution_count": null,
   "metadata": {},
   "outputs": [],
   "source": [
    "    print (symbols)"
   ]
  }
 ],
 "metadata": {
  "kernelspec": {
   "display_name": "Python 2",
   "language": "python",
   "name": "python2"
  },
  "language_info": {
   "codemirror_mode": {
    "name": "ipython",
    "version": 2
   },
   "file_extension": ".py",
   "mimetype": "text/x-python",
   "name": "python",
   "nbconvert_exporter": "python",
   "pygments_lexer": "ipython2",
   "version": "2.7.15rc1"
  }
 },
 "nbformat": 4,
 "nbformat_minor": 2
}
